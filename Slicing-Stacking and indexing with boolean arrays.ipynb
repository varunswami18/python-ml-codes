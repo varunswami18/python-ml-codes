{
 "cells": [
  {
   "cell_type": "code",
   "execution_count": 1,
   "metadata": {},
   "outputs": [],
   "source": [
    "# importing numpy\n",
    "import numpy as np"
   ]
  },
  {
   "cell_type": "code",
   "execution_count": 2,
   "metadata": {},
   "outputs": [
    {
     "name": "stdout",
     "output_type": "stream",
     "text": [
      "First two elemnts are: [6 7]\n",
      "Last element is: 8\n"
     ]
    }
   ],
   "source": [
    "#slicing list\n",
    "a = np.array([6, 7, 8])\n",
    "print(\"First two elemnts are:\", a[0:2])\n",
    "print(\"Last element is:\", a[-1])"
   ]
  },
  {
   "cell_type": "code",
   "execution_count": 3,
   "metadata": {},
   "outputs": [
    {
     "name": "stdout",
     "output_type": "stream",
     "text": [
      "Array is\n",
      " [[6 7 8]\n",
      " [1 2 3]\n",
      " [9 3 2]]\n",
      "\n",
      "Element in Row 1, column2: 3\n",
      "\n",
      "Element in Row 0, column 2 and Row 1, column 2 [8 3]\n",
      "\n",
      "Last row, first two columns elements: [9 3]\n",
      "\n",
      "Second column:\n",
      " [[7]\n",
      " [2]\n",
      " [3]]\n",
      "\n",
      "Displaying array\n",
      "[6 7 8]\n",
      "[1 2 3]\n",
      "[9 3 2]\n",
      "\n",
      "Elements in array\n",
      "6\n",
      "7\n",
      "8\n",
      "1\n",
      "2\n",
      "3\n",
      "9\n",
      "3\n",
      "2\n"
     ]
    }
   ],
   "source": [
    "#slicing 2D array\n",
    "a = np.array([[6, 7, 8], [1, 2, 3], [9, 3,2]])\n",
    "print(\"Array is\\n\", a)\n",
    "print(\"\\nElement in Row 1, column2:\", a[1, 2])\n",
    "print(\"\\nElement in Row 0, column 2 and Row 1, column 2\", a[0:2, 2])\n",
    "print(\"\\nLast row, first two columns elements:\", a[-1, 0:2])\n",
    "print(\"\\nSecond column:\\n\", a[:, 1:2])\n",
    "print(\"\\nDisplaying array\")\n",
    "for row in a:\n",
    "    print(row)\n",
    "print(\"\\nElements in array\")\n",
    "for cell in a.flat:\n",
    "    print(cell)"
   ]
  },
  {
   "cell_type": "code",
   "execution_count": 4,
   "metadata": {},
   "outputs": [
    {
     "name": "stdout",
     "output_type": "stream",
     "text": [
      "Array a is:\n",
      " [[0 1]\n",
      " [2 3]\n",
      " [4 5]]\n",
      "\n",
      "Array b is:\n",
      " [[ 6  7]\n",
      " [ 8  9]\n",
      " [10 11]]\n",
      "\n",
      "Stacking a and b vertically:\n",
      " [[ 0  1]\n",
      " [ 2  3]\n",
      " [ 4  5]\n",
      " [ 6  7]\n",
      " [ 8  9]\n",
      " [10 11]]\n",
      "\n",
      "Stacking a and b horizontally:\n",
      " [[ 0  1  6  7]\n",
      " [ 2  3  8  9]\n",
      " [ 4  5 10 11]]\n"
     ]
    }
   ],
   "source": [
    "# stacking of array\n",
    "a = np.arange(6).reshape(3, 2)\n",
    "b = np.arange(6 ,12).reshape(3, 2)\n",
    "print(\"Array a is:\\n\", a)\n",
    "print(\"\\nArray b is:\\n\", b)\n",
    "print(\"\\nStacking a and b vertically:\\n\", np.vstack((a, b)))\n",
    "print(\"\\nStacking a and b horizontally:\\n\", np.hstack((a, b)))"
   ]
  },
  {
   "cell_type": "code",
   "execution_count": 5,
   "metadata": {},
   "outputs": [
    {
     "name": "stdout",
     "output_type": "stream",
     "text": [
      "First slice:\n",
      " [[ 0  1  2  3  4]\n",
      " [15 16 17 18 19]]\n",
      "Second slice:\n",
      " [[ 5  6  7  8  9]\n",
      " [20 21 22 23 24]]\n",
      "Third slice:\n",
      " [[10 11 12 13 14]\n",
      " [25 26 27 28 29]]\n"
     ]
    }
   ],
   "source": [
    "# slicing of array\n",
    "a=np.arange(30).reshape(2, 15)\n",
    "result=np.hsplit(a, 3)\n",
    "print(\"First slice:\\n\", result[0])\n",
    "print(\"Second slice:\\n\", result[1])\n",
    "print(\"Third slice:\\n\", result[2])"
   ]
  },
  {
   "cell_type": "code",
   "execution_count": 6,
   "metadata": {},
   "outputs": [
    {
     "name": "stdout",
     "output_type": "stream",
     "text": [
      "Array a\n",
      " [[ 0  1  2  3]\n",
      " [ 4  5  6  7]\n",
      " [ 8  9 10 11]]\n",
      "\n",
      "The boolean table for b=a>4:\n",
      " [[False False False False]\n",
      " [False  True  True  True]\n",
      " [ True  True  True  True]]\n",
      "\n",
      "The values which gave true: \n",
      " [ 5  6  7  8  9 10 11]\n"
     ]
    }
   ],
   "source": [
    "# indexing of boolean array\n",
    "a = np.arange(12).reshape(3, 4)\n",
    "print(\"Array a\\n\", a)\n",
    "b=a>4 #checking condition\n",
    "print(\"\\nThe boolean table for b=a>4:\\n\", b)\n",
    "print(\"\\nThe values which gave true: \\n\", a[b])"
   ]
  }
 ],
 "metadata": {
  "kernelspec": {
   "display_name": "Python 3",
   "language": "python",
   "name": "python3"
  },
  "language_info": {
   "codemirror_mode": {
    "name": "ipython",
    "version": 3
   },
   "file_extension": ".py",
   "mimetype": "text/x-python",
   "name": "python",
   "nbconvert_exporter": "python",
   "pygments_lexer": "ipython3",
   "version": "3.7.4"
  }
 },
 "nbformat": 4,
 "nbformat_minor": 2
}
