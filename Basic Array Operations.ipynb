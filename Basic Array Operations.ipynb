{
 "cells": [
  {
   "cell_type": "code",
   "execution_count": 1,
   "metadata": {},
   "outputs": [],
   "source": [
    "# importing numpy\n",
    "import numpy as np"
   ]
  },
  {
   "cell_type": "code",
   "execution_count": 2,
   "metadata": {},
   "outputs": [],
   "source": [
    "# creating a numpy array\n",
    "a = np.array([5, 6, 9])"
   ]
  },
  {
   "cell_type": "code",
   "execution_count": 3,
   "metadata": {},
   "outputs": [
    {
     "data": {
      "text/plain": [
       "5"
      ]
     },
     "execution_count": 3,
     "metadata": {},
     "output_type": "execute_result"
    }
   ],
   "source": [
    "# accessing array\n",
    "a[0]"
   ]
  },
  {
   "cell_type": "code",
   "execution_count": 4,
   "metadata": {},
   "outputs": [
    {
     "name": "stdout",
     "output_type": "stream",
     "text": [
      "Dimension is:  2\n",
      "Shape is (3, 2)\n",
      "Number of elements:  6\n",
      "Memory one elemnt takes:  4\n",
      "Datatype of elements stored:  int32\n"
     ]
    }
   ],
   "source": [
    "# creating a 2 dimensional array\n",
    "a = np.array([[1, 2], [3, 4], [5, 6]])\n",
    "\n",
    "# dimension\n",
    "print(\"Dimension is: \", a.ndim)\n",
    "\n",
    "# shape\n",
    "print(\"Shape is\", a.shape)\n",
    "\n",
    "# size of array\n",
    "print(\"Number of elements: \", a.size)\n",
    "\n",
    "# Size of an element\n",
    "print(\"Memory one elemnt takes: \", a.itemsize)\n",
    "\n",
    "#datatype of array\n",
    "print(\"Datatype of elements stored: \", a.dtype)"
   ]
  },
  {
   "cell_type": "code",
   "execution_count": 5,
   "metadata": {},
   "outputs": [
    {
     "name": "stdout",
     "output_type": "stream",
     "text": [
      "Size increased from 4 to 16\n",
      "[[1.+0.j 2.+0.j]\n",
      " [3.+0.j 4.+0.j]\n",
      " [5.+0.j 6.+0.j]]\n"
     ]
    }
   ],
   "source": [
    "# changing datatype\n",
    "a = np.array([[1, 2], [3, 4], [5, 6]], dtype=np.complex)\n",
    "print(\"Size increased from 4 to\", a.itemsize)\n",
    "print(a)"
   ]
  },
  {
   "cell_type": "code",
   "execution_count": 6,
   "metadata": {},
   "outputs": [
    {
     "data": {
      "text/plain": [
       "array([0., 0., 0.])"
      ]
     },
     "execution_count": 6,
     "metadata": {},
     "output_type": "execute_result"
    }
   ],
   "source": [
    "# creating an array of zeros\n",
    "np.zeros(3)"
   ]
  },
  {
   "cell_type": "code",
   "execution_count": 7,
   "metadata": {},
   "outputs": [
    {
     "data": {
      "text/plain": [
       "array([[1., 1., 1., 1.],\n",
       "       [1., 1., 1., 1.],\n",
       "       [1., 1., 1., 1.]])"
      ]
     },
     "execution_count": 7,
     "metadata": {},
     "output_type": "execute_result"
    }
   ],
   "source": [
    "# creating a 2D array of ones\n",
    "np.ones( (3, 4))"
   ]
  },
  {
   "cell_type": "code",
   "execution_count": 8,
   "metadata": {},
   "outputs": [
    {
     "data": {
      "text/plain": [
       "array([1, 3, 5, 7, 9])"
      ]
     },
     "execution_count": 8,
     "metadata": {},
     "output_type": "execute_result"
    }
   ],
   "source": [
    "# creating an array of 1 to 10(not included) with a step of 2\n",
    "np.arange(1, 10, 2)"
   ]
  },
  {
   "cell_type": "code",
   "execution_count": 9,
   "metadata": {},
   "outputs": [
    {
     "data": {
      "text/plain": [
       "array([1.        , 1.44444444, 1.88888889, 2.33333333, 2.77777778,\n",
       "       3.22222222, 3.66666667, 4.11111111, 4.55555556, 5.        ])"
      ]
     },
     "execution_count": 9,
     "metadata": {},
     "output_type": "execute_result"
    }
   ],
   "source": [
    "# creating a linearly spaced array \n",
    "#starting(1), ending(5) point and number of elements(10) are known\n",
    "np.linspace(1, 5, 10)"
   ]
  },
  {
   "cell_type": "code",
   "execution_count": 10,
   "metadata": {},
   "outputs": [
    {
     "name": "stdout",
     "output_type": "stream",
     "text": [
      "Array resahped to\n",
      " [[1.+0.j 2.+0.j 3.+0.j]\n",
      " [4.+0.j 5.+0.j 6.+0.j]]\n",
      "The flattened array is [1.+0.j 2.+0.j 3.+0.j 4.+0.j 5.+0.j 6.+0.j]\n"
     ]
    }
   ],
   "source": [
    "# changing shape of array\n",
    "print(\"Array resahped to\\n\", a.reshape(2, 3))\n",
    "\n",
    "# to flat an array wtihout altering original array\n",
    "print(\"The flattened array is\", a.ravel())"
   ]
  },
  {
   "cell_type": "code",
   "execution_count": 11,
   "metadata": {},
   "outputs": [
    {
     "name": "stdout",
     "output_type": "stream",
     "text": [
      "Minimum value in the array: (1+0j)\n",
      "Maximum value in the array: (6+0j)\n",
      "Sum of all the elements in the array: (21+0j)\n",
      "Sum of columns: [ 9.+0.j 12.+0.j]\n",
      "Sum of rows: [ 3.+0.j  7.+0.j 11.+0.j]\n",
      "Sqaure roots of the elements:\n",
      " [[1.        +0.j 1.41421356+0.j]\n",
      " [1.73205081+0.j 2.        +0.j]\n",
      " [2.23606798+0.j 2.44948974+0.j]]\n"
     ]
    }
   ],
   "source": [
    "#min\n",
    "print(\"Minimum value in the array:\", a.min())\n",
    "\n",
    "#max\n",
    "print(\"Maximum value in the array:\", a.max())\n",
    "\n",
    "#sum\n",
    "print(\"Sum of all the elements in the array:\", a.sum())\n",
    "\n",
    "#sum of columns\n",
    "print(\"Sum of columns:\", a.sum(axis=0)) # 0 means top to bottom\n",
    "\n",
    "#sum of rows\n",
    "print(\"Sum of rows:\", a.sum(axis=1)) # 1 means left to right\n",
    "\n",
    "#square root of an array\n",
    "print(\"Sqaure roots of the elements:\\n\", np.sqrt(a))"
   ]
  },
  {
   "cell_type": "code",
   "execution_count": 12,
   "metadata": {},
   "outputs": [
    {
     "name": "stdout",
     "output_type": "stream",
     "text": [
      "Dot product is: [[ 9.+0.j 12.+0.j 15.+0.j]\n",
      " [19.+0.j 26.+0.j 33.+0.j]\n",
      " [29.+0.j 40.+0.j 51.+0.j]]\n"
     ]
    }
   ],
   "source": [
    "#Dot product of matrices\n",
    "b=a.reshape(2, 3)\n",
    "print(\"Dot product is:\", a.dot(b))"
   ]
  }
 ],
 "metadata": {
  "kernelspec": {
   "display_name": "Python 3",
   "language": "python",
   "name": "python3"
  },
  "language_info": {
   "codemirror_mode": {
    "name": "ipython",
    "version": 3
   },
   "file_extension": ".py",
   "mimetype": "text/x-python",
   "name": "python",
   "nbconvert_exporter": "python",
   "pygments_lexer": "ipython3",
   "version": "3.7.4"
  }
 },
 "nbformat": 4,
 "nbformat_minor": 2
}
